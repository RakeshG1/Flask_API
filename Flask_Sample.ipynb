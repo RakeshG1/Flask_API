{
 "cells": [
  {
   "cell_type": "code",
   "execution_count": 1,
   "metadata": {},
   "outputs": [],
   "source": [
    "import matplotlib\n",
    "matplotlib.use('Agg')\n",
    "import matplotlib.pyplot as plt\n",
    "from flask import Flask, render_template, jsonify\n",
    "from io import BytesIO\n",
    "import base64\n",
    "import os"
   ]
  },
  {
   "cell_type": "code",
   "execution_count": 2,
   "metadata": {},
   "outputs": [
    {
     "data": {
      "text/plain": [
       "'/Users/rock/Data_Science/Python_Flask_HTML'"
      ]
     },
     "execution_count": 2,
     "metadata": {},
     "output_type": "execute_result"
    }
   ],
   "source": [
    "os.getcwd()"
   ]
  },
  {
   "cell_type": "code",
   "execution_count": 3,
   "metadata": {},
   "outputs": [
    {
     "name": "stdout",
     "output_type": "stream",
     "text": [
      " * Serving Flask app \"__main__\" (lazy loading)\n",
      " * Environment: production\n",
      "   WARNING: This is a development server. Do not use it in a production deployment.\n",
      "   Use a production WSGI server instead.\n",
      " * Debug mode: off\n"
     ]
    },
    {
     "name": "stderr",
     "output_type": "stream",
     "text": [
      " * Running on http://0.0.0.0:5000/ (Press CTRL+C to quit)\n",
      "127.0.0.1 - - [13/Dec/2020 12:14:13] \"\u001b[37mGET /plot HTTP/1.1\u001b[0m\" 200 -\n",
      "127.0.0.1 - - [13/Dec/2020 12:16:08] \"\u001b[37mGET /plot HTTP/1.1\u001b[0m\" 200 -\n",
      "127.0.0.1 - - [13/Dec/2020 12:16:09] \"\u001b[33mGET /favicon.ico HTTP/1.1\u001b[0m\" 404 -\n"
     ]
    }
   ],
   "source": [
    "app = Flask(__name__)\n",
    "\n",
    "@app.route('/')\n",
    "def hello_world():\n",
    "    return 'Hello World'\n",
    "\n",
    "@app.route('/plot')\n",
    "def plot():\n",
    "    img = BytesIO()\n",
    "    y = [1,2,3,4,5]\n",
    "    x = [0,2,1,3,4]\n",
    "\n",
    "    plt.plot(x,y)\n",
    "\n",
    "    plt.savefig(img, format='png')\n",
    "    plt.close()\n",
    "    img.seek(0)\n",
    "    plot_url = base64.b64encode(img.getvalue()).decode('utf8')\n",
    "\n",
    "    return render_template('plot.html', plot_url=plot_url)\n",
    "\n",
    "@app.route('/stopServer', methods=['GET'])\n",
    "def stopServer():\n",
    "    os.kill(os.getpid(), signal.SIGINT)\n",
    "    return jsonify({ \"success\": True, \"message\": \"Server is shutting down...\" })\n",
    "\n",
    "if __name__ == '__main__':\n",
    "    #app.run(debug=True)\n",
    "    #app.run()\n",
    "    #app.run(host=\"0.0.0.0\", debug=True, port=8080)\n",
    "    app.run(host='0.0.0.0', port=5000)"
   ]
  },
  {
   "cell_type": "code",
   "execution_count": null,
   "metadata": {},
   "outputs": [],
   "source": []
  }
 ],
 "metadata": {
  "kernelspec": {
   "display_name": "Python 3",
   "language": "python",
   "name": "python3"
  },
  "language_info": {
   "codemirror_mode": {
    "name": "ipython",
    "version": 3
   },
   "file_extension": ".py",
   "mimetype": "text/x-python",
   "name": "python",
   "nbconvert_exporter": "python",
   "pygments_lexer": "ipython3",
   "version": "3.7.4"
  }
 },
 "nbformat": 4,
 "nbformat_minor": 4
}
